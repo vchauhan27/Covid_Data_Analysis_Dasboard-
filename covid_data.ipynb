{
 "cells": [
  {
   "cell_type": "code",
   "execution_count": 35,
   "id": "3fe1a470-1f38-49e2-8925-04900ddc12ff",
   "metadata": {},
   "outputs": [],
   "source": [
    "import pandas as pd\n",
    "import matplotlib.pyplot as plt\n",
    "import seaborn as sns\n",
    "import numpy as np"
   ]
  },
  {
   "cell_type": "code",
   "execution_count": 36,
   "id": "49f2d2e8-75ef-4183-8a3b-fe3c88b874ed",
   "metadata": {},
   "outputs": [],
   "source": [
    "df_confirm = pd.read_csv(\"time_series_covid19_confirmed_global.csv\")\n",
    "df_death = pd.read_csv(\"time_series_covid19_deaths_global.csv\")\n",
    "df_recover = pd.read_csv(\"time_series_covid19_recovered_global.csv\")"
   ]
  },
  {
   "cell_type": "code",
   "execution_count": 37,
   "id": "51339b25-8ae2-440f-b87b-c62cf82acc02",
   "metadata": {},
   "outputs": [],
   "source": [
    "df_confirm = df_confirm.reset_index(drop=True)\n",
    "df_death = df_death.reset_index(drop=True)\n",
    "df_recover = df_recover.reset_index(drop=True)"
   ]
  },
  {
   "cell_type": "code",
   "execution_count": 38,
   "id": "2880328c-3e64-4ff4-9860-06e03e6d87b0",
   "metadata": {},
   "outputs": [],
   "source": [
    "df_confirm['Source'] = 'Confirmed'\n",
    "df_death['Source'] = 'Deaths'\n",
    "df_recover['Source'] = 'Recovered'"
   ]
  },
  {
   "cell_type": "code",
   "execution_count": 39,
   "id": "a5ab6341-b5b1-4a66-9ddc-8259b7393e7e",
   "metadata": {},
   "outputs": [
    {
     "data": {
      "text/html": [
       "<div>\n",
       "<style scoped>\n",
       "    .dataframe tbody tr th:only-of-type {\n",
       "        vertical-align: middle;\n",
       "    }\n",
       "\n",
       "    .dataframe tbody tr th {\n",
       "        vertical-align: top;\n",
       "    }\n",
       "\n",
       "    .dataframe thead th {\n",
       "        text-align: right;\n",
       "    }\n",
       "</style>\n",
       "<table border=\"1\" class=\"dataframe\">\n",
       "  <thead>\n",
       "    <tr style=\"text-align: right;\">\n",
       "      <th></th>\n",
       "      <th>Province/State</th>\n",
       "      <th>Country/Region</th>\n",
       "      <th>Lat</th>\n",
       "      <th>Long</th>\n",
       "      <th>1/22/20</th>\n",
       "      <th>1/23/20</th>\n",
       "      <th>1/24/20</th>\n",
       "      <th>1/25/20</th>\n",
       "      <th>1/26/20</th>\n",
       "      <th>1/27/20</th>\n",
       "      <th>...</th>\n",
       "      <th>03-01-2023</th>\n",
       "      <th>03-02-2023</th>\n",
       "      <th>03-03-2023</th>\n",
       "      <th>03-04-2023</th>\n",
       "      <th>03-05-2023</th>\n",
       "      <th>03-06-2023</th>\n",
       "      <th>03-07-2023</th>\n",
       "      <th>03-08-2023</th>\n",
       "      <th>03-09-2023</th>\n",
       "      <th>Source</th>\n",
       "    </tr>\n",
       "  </thead>\n",
       "  <tbody>\n",
       "    <tr>\n",
       "      <th>0</th>\n",
       "      <td>NaN</td>\n",
       "      <td>Afghanistan</td>\n",
       "      <td>33.93911</td>\n",
       "      <td>67.709953</td>\n",
       "      <td>0</td>\n",
       "      <td>0</td>\n",
       "      <td>0</td>\n",
       "      <td>0</td>\n",
       "      <td>0</td>\n",
       "      <td>0</td>\n",
       "      <td>...</td>\n",
       "      <td>209340</td>\n",
       "      <td>209358</td>\n",
       "      <td>209362</td>\n",
       "      <td>209369</td>\n",
       "      <td>209390</td>\n",
       "      <td>209406</td>\n",
       "      <td>209436</td>\n",
       "      <td>209451</td>\n",
       "      <td>209451</td>\n",
       "      <td>Confirmed</td>\n",
       "    </tr>\n",
       "    <tr>\n",
       "      <th>1</th>\n",
       "      <td>NaN</td>\n",
       "      <td>Albania</td>\n",
       "      <td>41.15330</td>\n",
       "      <td>20.168300</td>\n",
       "      <td>0</td>\n",
       "      <td>0</td>\n",
       "      <td>0</td>\n",
       "      <td>0</td>\n",
       "      <td>0</td>\n",
       "      <td>0</td>\n",
       "      <td>...</td>\n",
       "      <td>334408</td>\n",
       "      <td>334408</td>\n",
       "      <td>334427</td>\n",
       "      <td>334427</td>\n",
       "      <td>334427</td>\n",
       "      <td>334427</td>\n",
       "      <td>334427</td>\n",
       "      <td>334443</td>\n",
       "      <td>334457</td>\n",
       "      <td>Confirmed</td>\n",
       "    </tr>\n",
       "    <tr>\n",
       "      <th>2</th>\n",
       "      <td>NaN</td>\n",
       "      <td>Algeria</td>\n",
       "      <td>28.03390</td>\n",
       "      <td>1.659600</td>\n",
       "      <td>0</td>\n",
       "      <td>0</td>\n",
       "      <td>0</td>\n",
       "      <td>0</td>\n",
       "      <td>0</td>\n",
       "      <td>0</td>\n",
       "      <td>...</td>\n",
       "      <td>271448</td>\n",
       "      <td>271463</td>\n",
       "      <td>271469</td>\n",
       "      <td>271469</td>\n",
       "      <td>271477</td>\n",
       "      <td>271477</td>\n",
       "      <td>271490</td>\n",
       "      <td>271494</td>\n",
       "      <td>271496</td>\n",
       "      <td>Confirmed</td>\n",
       "    </tr>\n",
       "    <tr>\n",
       "      <th>3</th>\n",
       "      <td>NaN</td>\n",
       "      <td>Andorra</td>\n",
       "      <td>42.50630</td>\n",
       "      <td>1.521800</td>\n",
       "      <td>0</td>\n",
       "      <td>0</td>\n",
       "      <td>0</td>\n",
       "      <td>0</td>\n",
       "      <td>0</td>\n",
       "      <td>0</td>\n",
       "      <td>...</td>\n",
       "      <td>47875</td>\n",
       "      <td>47875</td>\n",
       "      <td>47875</td>\n",
       "      <td>47875</td>\n",
       "      <td>47875</td>\n",
       "      <td>47875</td>\n",
       "      <td>47875</td>\n",
       "      <td>47890</td>\n",
       "      <td>47890</td>\n",
       "      <td>Confirmed</td>\n",
       "    </tr>\n",
       "    <tr>\n",
       "      <th>4</th>\n",
       "      <td>NaN</td>\n",
       "      <td>Angola</td>\n",
       "      <td>-11.20270</td>\n",
       "      <td>17.873900</td>\n",
       "      <td>0</td>\n",
       "      <td>0</td>\n",
       "      <td>0</td>\n",
       "      <td>0</td>\n",
       "      <td>0</td>\n",
       "      <td>0</td>\n",
       "      <td>...</td>\n",
       "      <td>105277</td>\n",
       "      <td>105277</td>\n",
       "      <td>105277</td>\n",
       "      <td>105277</td>\n",
       "      <td>105277</td>\n",
       "      <td>105277</td>\n",
       "      <td>105277</td>\n",
       "      <td>105288</td>\n",
       "      <td>105288</td>\n",
       "      <td>Confirmed</td>\n",
       "    </tr>\n",
       "    <tr>\n",
       "      <th>5</th>\n",
       "      <td>NaN</td>\n",
       "      <td>Antarctica</td>\n",
       "      <td>-71.94990</td>\n",
       "      <td>23.347000</td>\n",
       "      <td>0</td>\n",
       "      <td>0</td>\n",
       "      <td>0</td>\n",
       "      <td>0</td>\n",
       "      <td>0</td>\n",
       "      <td>0</td>\n",
       "      <td>...</td>\n",
       "      <td>11</td>\n",
       "      <td>11</td>\n",
       "      <td>11</td>\n",
       "      <td>11</td>\n",
       "      <td>11</td>\n",
       "      <td>11</td>\n",
       "      <td>11</td>\n",
       "      <td>11</td>\n",
       "      <td>11</td>\n",
       "      <td>Confirmed</td>\n",
       "    </tr>\n",
       "    <tr>\n",
       "      <th>6</th>\n",
       "      <td>NaN</td>\n",
       "      <td>Antigua and Barbuda</td>\n",
       "      <td>17.06080</td>\n",
       "      <td>-61.796400</td>\n",
       "      <td>0</td>\n",
       "      <td>0</td>\n",
       "      <td>0</td>\n",
       "      <td>0</td>\n",
       "      <td>0</td>\n",
       "      <td>0</td>\n",
       "      <td>...</td>\n",
       "      <td>9106</td>\n",
       "      <td>9106</td>\n",
       "      <td>9106</td>\n",
       "      <td>9106</td>\n",
       "      <td>9106</td>\n",
       "      <td>9106</td>\n",
       "      <td>9106</td>\n",
       "      <td>9106</td>\n",
       "      <td>9106</td>\n",
       "      <td>Confirmed</td>\n",
       "    </tr>\n",
       "    <tr>\n",
       "      <th>7</th>\n",
       "      <td>NaN</td>\n",
       "      <td>Argentina</td>\n",
       "      <td>-38.41610</td>\n",
       "      <td>-63.616700</td>\n",
       "      <td>0</td>\n",
       "      <td>0</td>\n",
       "      <td>0</td>\n",
       "      <td>0</td>\n",
       "      <td>0</td>\n",
       "      <td>0</td>\n",
       "      <td>...</td>\n",
       "      <td>10044125</td>\n",
       "      <td>10044125</td>\n",
       "      <td>10044125</td>\n",
       "      <td>10044125</td>\n",
       "      <td>10044125</td>\n",
       "      <td>10044957</td>\n",
       "      <td>10044957</td>\n",
       "      <td>10044957</td>\n",
       "      <td>10044957</td>\n",
       "      <td>Confirmed</td>\n",
       "    </tr>\n",
       "    <tr>\n",
       "      <th>8</th>\n",
       "      <td>NaN</td>\n",
       "      <td>Armenia</td>\n",
       "      <td>40.06910</td>\n",
       "      <td>45.038200</td>\n",
       "      <td>0</td>\n",
       "      <td>0</td>\n",
       "      <td>0</td>\n",
       "      <td>0</td>\n",
       "      <td>0</td>\n",
       "      <td>0</td>\n",
       "      <td>...</td>\n",
       "      <td>446819</td>\n",
       "      <td>446819</td>\n",
       "      <td>446819</td>\n",
       "      <td>446819</td>\n",
       "      <td>446819</td>\n",
       "      <td>446819</td>\n",
       "      <td>446819</td>\n",
       "      <td>447308</td>\n",
       "      <td>447308</td>\n",
       "      <td>Confirmed</td>\n",
       "    </tr>\n",
       "    <tr>\n",
       "      <th>9</th>\n",
       "      <td>Australian Capital Territory</td>\n",
       "      <td>Australia</td>\n",
       "      <td>-35.47350</td>\n",
       "      <td>149.012400</td>\n",
       "      <td>0</td>\n",
       "      <td>0</td>\n",
       "      <td>0</td>\n",
       "      <td>0</td>\n",
       "      <td>0</td>\n",
       "      <td>0</td>\n",
       "      <td>...</td>\n",
       "      <td>232018</td>\n",
       "      <td>232619</td>\n",
       "      <td>232619</td>\n",
       "      <td>232619</td>\n",
       "      <td>232619</td>\n",
       "      <td>232619</td>\n",
       "      <td>232619</td>\n",
       "      <td>232619</td>\n",
       "      <td>232974</td>\n",
       "      <td>Confirmed</td>\n",
       "    </tr>\n",
       "  </tbody>\n",
       "</table>\n",
       "<p>10 rows × 1148 columns</p>\n",
       "</div>"
      ],
      "text/plain": [
       "                 Province/State       Country/Region       Lat        Long  \\\n",
       "0                           NaN          Afghanistan  33.93911   67.709953   \n",
       "1                           NaN              Albania  41.15330   20.168300   \n",
       "2                           NaN              Algeria  28.03390    1.659600   \n",
       "3                           NaN              Andorra  42.50630    1.521800   \n",
       "4                           NaN               Angola -11.20270   17.873900   \n",
       "5                           NaN           Antarctica -71.94990   23.347000   \n",
       "6                           NaN  Antigua and Barbuda  17.06080  -61.796400   \n",
       "7                           NaN            Argentina -38.41610  -63.616700   \n",
       "8                           NaN              Armenia  40.06910   45.038200   \n",
       "9  Australian Capital Territory            Australia -35.47350  149.012400   \n",
       "\n",
       "   1/22/20  1/23/20  1/24/20  1/25/20  1/26/20  1/27/20  ...  03-01-2023  \\\n",
       "0        0        0        0        0        0        0  ...      209340   \n",
       "1        0        0        0        0        0        0  ...      334408   \n",
       "2        0        0        0        0        0        0  ...      271448   \n",
       "3        0        0        0        0        0        0  ...       47875   \n",
       "4        0        0        0        0        0        0  ...      105277   \n",
       "5        0        0        0        0        0        0  ...          11   \n",
       "6        0        0        0        0        0        0  ...        9106   \n",
       "7        0        0        0        0        0        0  ...    10044125   \n",
       "8        0        0        0        0        0        0  ...      446819   \n",
       "9        0        0        0        0        0        0  ...      232018   \n",
       "\n",
       "   03-02-2023  03-03-2023  03-04-2023  03-05-2023  03-06-2023  03-07-2023  \\\n",
       "0      209358      209362      209369      209390      209406      209436   \n",
       "1      334408      334427      334427      334427      334427      334427   \n",
       "2      271463      271469      271469      271477      271477      271490   \n",
       "3       47875       47875       47875       47875       47875       47875   \n",
       "4      105277      105277      105277      105277      105277      105277   \n",
       "5          11          11          11          11          11          11   \n",
       "6        9106        9106        9106        9106        9106        9106   \n",
       "7    10044125    10044125    10044125    10044125    10044957    10044957   \n",
       "8      446819      446819      446819      446819      446819      446819   \n",
       "9      232619      232619      232619      232619      232619      232619   \n",
       "\n",
       "   03-08-2023  03-09-2023     Source  \n",
       "0      209451      209451  Confirmed  \n",
       "1      334443      334457  Confirmed  \n",
       "2      271494      271496  Confirmed  \n",
       "3       47890       47890  Confirmed  \n",
       "4      105288      105288  Confirmed  \n",
       "5          11          11  Confirmed  \n",
       "6        9106        9106  Confirmed  \n",
       "7    10044957    10044957  Confirmed  \n",
       "8      447308      447308  Confirmed  \n",
       "9      232619      232974  Confirmed  \n",
       "\n",
       "[10 rows x 1148 columns]"
      ]
     },
     "execution_count": 39,
     "metadata": {},
     "output_type": "execute_result"
    }
   ],
   "source": [
    "combined_df = pd.concat([df_confirm, df_death, df_recover], ignore_index=True)\n",
    "combined_df.head(10)"
   ]
  },
  {
   "cell_type": "code",
   "execution_count": 40,
   "id": "0afc6728-c44b-4724-b1af-f6d2eea69ee3",
   "metadata": {},
   "outputs": [
    {
     "name": "stdout",
     "output_type": "stream",
     "text": [
      "<class 'pandas.core.frame.DataFrame'>\n",
      "RangeIndex: 852 entries, 0 to 851\n",
      "Columns: 1148 entries, Province/State to Source\n",
      "dtypes: float64(2), int64(1143), object(3)\n",
      "memory usage: 7.5+ MB\n"
     ]
    }
   ],
   "source": [
    "combined_df.info()"
   ]
  },
  {
   "cell_type": "code",
   "execution_count": 41,
   "id": "d6500aa1-933d-4154-9c85-26e945b80cfc",
   "metadata": {},
   "outputs": [
    {
     "name": "stdout",
     "output_type": "stream",
     "text": [
      "Province/State     object\n",
      "Country/Region     object\n",
      "Lat               float64\n",
      "Long              float64\n",
      "1/22/20             int64\n",
      "                   ...   \n",
      "03-06-2023          int64\n",
      "03-07-2023          int64\n",
      "03-08-2023          int64\n",
      "03-09-2023          int64\n",
      "Source             object\n",
      "Length: 1148, dtype: object\n"
     ]
    }
   ],
   "source": [
    "print(combined_df.dtypes)"
   ]
  },
  {
   "cell_type": "code",
   "execution_count": 42,
   "id": "7db7d8ed-a7ee-42e5-ab08-d80d40a6325c",
   "metadata": {},
   "outputs": [
    {
     "data": {
      "text/plain": [
       "(852, 1148)"
      ]
     },
     "execution_count": 42,
     "metadata": {},
     "output_type": "execute_result"
    }
   ],
   "source": [
    "combined_df.shape"
   ]
  },
  {
   "cell_type": "markdown",
   "id": "ad793fcd-fa78-46b9-9928-d281ac44bcce",
   "metadata": {},
   "source": [
    "# handeling missing values"
   ]
  },
  {
   "cell_type": "code",
   "execution_count": 43,
   "id": "12996663-bcc8-4372-a78f-d5869c0a457e",
   "metadata": {},
   "outputs": [
    {
     "data": {
      "text/plain": [
       "Province/State    595\n",
       "Country/Region      0\n",
       "Lat                 5\n",
       "Long                5\n",
       "1/22/20             0\n",
       "                 ... \n",
       "03-06-2023          0\n",
       "03-07-2023          0\n",
       "03-08-2023          0\n",
       "03-09-2023          0\n",
       "Source              0\n",
       "Length: 1148, dtype: int64"
      ]
     },
     "execution_count": 43,
     "metadata": {},
     "output_type": "execute_result"
    }
   ],
   "source": [
    "combined_df.isnull().sum()"
   ]
  },
  {
   "cell_type": "code",
   "execution_count": 44,
   "id": "49a0d371-aaed-4d9e-9996-d1fb231b0338",
   "metadata": {},
   "outputs": [],
   "source": [
    "missing = combined_df.drop(columns=['Source']).isnull()\n"
   ]
  },
  {
   "cell_type": "code",
   "execution_count": 45,
   "id": "f809c753-a33b-4814-b8b3-5aee9986ef83",
   "metadata": {},
   "outputs": [],
   "source": [
    "missing_cols = missing.loc[:, missing.any(axis=0)]\n"
   ]
  },
  {
   "cell_type": "code",
   "execution_count": 46,
   "id": "53db3ee1-a5aa-44ac-bcd0-45873cf92085",
   "metadata": {},
   "outputs": [
    {
     "data": {
      "image/png": "[encoded data removed]",
      "text/plain": [
       "<Figure size 2000x800 with 1 Axes>"
      ]
     },
     "metadata": {},
     "output_type": "display_data"
    }
   ],
   "source": [
    "plt.figure(figsize=(20, 8))\n",
    "sns.heatmap(missing_cols.T, cmap='YlOrRd', cbar=False)\n",
    "plt.title(\"Missing Values Heatmap (Confirmed, Deaths, Recovered)\")\n",
    "plt.xlabel(\"Data Samples\")\n",
    "plt.ylabel(\"Columns with Missing Values\")\n",
    "plt.show()"
   ]
  },
  {
   "cell_type": "code",
   "execution_count": 47,
   "id": "87219678-0fd2-4cf4-8746-cea62c47d23f",
   "metadata": {},
   "outputs": [],
   "source": [
    "combined_df['Province/State'] = combined_df['Province/State'].fillna(combined_df['Country/Region'])"
   ]
  },
  {
   "cell_type": "code",
   "execution_count": 48,
   "id": "09c24c1d-1da6-45d0-b323-ed4a361870f8",
   "metadata": {},
   "outputs": [
    {
     "data": {
      "text/html": [
       "<div>\n",
       "<style scoped>\n",
       "    .dataframe tbody tr th:only-of-type {\n",
       "        vertical-align: middle;\n",
       "    }\n",
       "\n",
       "    .dataframe tbody tr th {\n",
       "        vertical-align: top;\n",
       "    }\n",
       "\n",
       "    .dataframe thead th {\n",
       "        text-align: right;\n",
       "    }\n",
       "</style>\n",
       "<table border=\"1\" class=\"dataframe\">\n",
       "  <thead>\n",
       "    <tr style=\"text-align: right;\">\n",
       "      <th></th>\n",
       "      <th>Province/State</th>\n",
       "      <th>Country/Region</th>\n",
       "      <th>Lat</th>\n",
       "      <th>Long</th>\n",
       "      <th>1/22/20</th>\n",
       "      <th>1/23/20</th>\n",
       "      <th>1/24/20</th>\n",
       "      <th>1/25/20</th>\n",
       "      <th>1/26/20</th>\n",
       "      <th>1/27/20</th>\n",
       "      <th>...</th>\n",
       "      <th>03-01-2023</th>\n",
       "      <th>03-02-2023</th>\n",
       "      <th>03-03-2023</th>\n",
       "      <th>03-04-2023</th>\n",
       "      <th>03-05-2023</th>\n",
       "      <th>03-06-2023</th>\n",
       "      <th>03-07-2023</th>\n",
       "      <th>03-08-2023</th>\n",
       "      <th>03-09-2023</th>\n",
       "      <th>Source</th>\n",
       "    </tr>\n",
       "  </thead>\n",
       "  <tbody>\n",
       "    <tr>\n",
       "      <th>53</th>\n",
       "      <td>Repatriated Travellers</td>\n",
       "      <td>Canada</td>\n",
       "      <td>NaN</td>\n",
       "      <td>NaN</td>\n",
       "      <td>0</td>\n",
       "      <td>0</td>\n",
       "      <td>0</td>\n",
       "      <td>0</td>\n",
       "      <td>0</td>\n",
       "      <td>0</td>\n",
       "      <td>...</td>\n",
       "      <td>13</td>\n",
       "      <td>13</td>\n",
       "      <td>13</td>\n",
       "      <td>13</td>\n",
       "      <td>13</td>\n",
       "      <td>13</td>\n",
       "      <td>13</td>\n",
       "      <td>13</td>\n",
       "      <td>13</td>\n",
       "      <td>Confirmed</td>\n",
       "    </tr>\n",
       "    <tr>\n",
       "      <th>89</th>\n",
       "      <td>Unknown</td>\n",
       "      <td>China</td>\n",
       "      <td>NaN</td>\n",
       "      <td>NaN</td>\n",
       "      <td>0</td>\n",
       "      <td>0</td>\n",
       "      <td>0</td>\n",
       "      <td>0</td>\n",
       "      <td>0</td>\n",
       "      <td>0</td>\n",
       "      <td>...</td>\n",
       "      <td>1521816</td>\n",
       "      <td>1521816</td>\n",
       "      <td>1521816</td>\n",
       "      <td>1521816</td>\n",
       "      <td>1521816</td>\n",
       "      <td>1521816</td>\n",
       "      <td>1521816</td>\n",
       "      <td>1521816</td>\n",
       "      <td>1521816</td>\n",
       "      <td>Confirmed</td>\n",
       "    </tr>\n",
       "    <tr>\n",
       "      <th>342</th>\n",
       "      <td>Repatriated Travellers</td>\n",
       "      <td>Canada</td>\n",
       "      <td>NaN</td>\n",
       "      <td>NaN</td>\n",
       "      <td>0</td>\n",
       "      <td>0</td>\n",
       "      <td>0</td>\n",
       "      <td>0</td>\n",
       "      <td>0</td>\n",
       "      <td>0</td>\n",
       "      <td>...</td>\n",
       "      <td>0</td>\n",
       "      <td>0</td>\n",
       "      <td>0</td>\n",
       "      <td>0</td>\n",
       "      <td>0</td>\n",
       "      <td>0</td>\n",
       "      <td>0</td>\n",
       "      <td>0</td>\n",
       "      <td>0</td>\n",
       "      <td>Deaths</td>\n",
       "    </tr>\n",
       "    <tr>\n",
       "      <th>378</th>\n",
       "      <td>Unknown</td>\n",
       "      <td>China</td>\n",
       "      <td>NaN</td>\n",
       "      <td>NaN</td>\n",
       "      <td>0</td>\n",
       "      <td>0</td>\n",
       "      <td>0</td>\n",
       "      <td>0</td>\n",
       "      <td>0</td>\n",
       "      <td>0</td>\n",
       "      <td>...</td>\n",
       "      <td>82195</td>\n",
       "      <td>82195</td>\n",
       "      <td>82195</td>\n",
       "      <td>82195</td>\n",
       "      <td>82195</td>\n",
       "      <td>82195</td>\n",
       "      <td>82195</td>\n",
       "      <td>82195</td>\n",
       "      <td>82195</td>\n",
       "      <td>Deaths</td>\n",
       "    </tr>\n",
       "    <tr>\n",
       "      <th>652</th>\n",
       "      <td>Unknown</td>\n",
       "      <td>China</td>\n",
       "      <td>NaN</td>\n",
       "      <td>NaN</td>\n",
       "      <td>0</td>\n",
       "      <td>0</td>\n",
       "      <td>0</td>\n",
       "      <td>0</td>\n",
       "      <td>0</td>\n",
       "      <td>0</td>\n",
       "      <td>...</td>\n",
       "      <td>0</td>\n",
       "      <td>0</td>\n",
       "      <td>0</td>\n",
       "      <td>0</td>\n",
       "      <td>0</td>\n",
       "      <td>0</td>\n",
       "      <td>0</td>\n",
       "      <td>0</td>\n",
       "      <td>0</td>\n",
       "      <td>Recovered</td>\n",
       "    </tr>\n",
       "  </tbody>\n",
       "</table>\n",
       "<p>5 rows × 1148 columns</p>\n",
       "</div>"
      ],
      "text/plain": [
       "             Province/State Country/Region  Lat  Long  1/22/20  1/23/20  \\\n",
       "53   Repatriated Travellers         Canada  NaN   NaN        0        0   \n",
       "89                  Unknown          China  NaN   NaN        0        0   \n",
       "342  Repatriated Travellers         Canada  NaN   NaN        0        0   \n",
       "378                 Unknown          China  NaN   NaN        0        0   \n",
       "652                 Unknown          China  NaN   NaN        0        0   \n",
       "\n",
       "     1/24/20  1/25/20  1/26/20  1/27/20  ...  03-01-2023  03-02-2023  \\\n",
       "53         0        0        0        0  ...          13          13   \n",
       "89         0        0        0        0  ...     1521816     1521816   \n",
       "342        0        0        0        0  ...           0           0   \n",
       "378        0        0        0        0  ...       82195       82195   \n",
       "652        0        0        0        0  ...           0           0   \n",
       "\n",
       "     03-03-2023  03-04-2023  03-05-2023  03-06-2023  03-07-2023  03-08-2023  \\\n",
       "53           13          13          13          13          13          13   \n",
       "89      1521816     1521816     1521816     1521816     1521816     1521816   \n",
       "342           0           0           0           0           0           0   \n",
       "378       82195       82195       82195       82195       82195       82195   \n",
       "652           0           0           0           0           0           0   \n",
       "\n",
       "     03-09-2023     Source  \n",
       "53           13  Confirmed  \n",
       "89      1521816  Confirmed  \n",
       "342           0     Deaths  \n",
       "378       82195     Deaths  \n",
       "652           0  Recovered  \n",
       "\n",
       "[5 rows x 1148 columns]"
      ]
     },
     "execution_count": 48,
     "metadata": {},
     "output_type": "execute_result"
    }
   ],
   "source": [
    "combined_df[combined_df['Lat'].isnull()].head()\n"
   ]
  },
  {
   "cell_type": "code",
   "execution_count": 49,
   "id": "21df28ef-e810-42a6-bfa7-e92b13fd4f80",
   "metadata": {},
   "outputs": [],
   "source": [
    "country_means = combined_df.groupby('Country/Region')[['Lat', 'Long']].mean()\n"
   ]
  },
  {
   "cell_type": "code",
   "execution_count": 50,
   "id": "3837e0c9-1f9d-4f5e-b982-aba451d7211e",
   "metadata": {},
   "outputs": [],
   "source": [
    "for idx, row in combined_df[combined_df['Lat'].isnull()].iterrows():\n",
    "    country = row['Country/Region']\n",
    "    if country in country_means.index:\n",
    "        combined_df.at[idx, 'Lat'] = country_means.loc[country, 'Lat']\n",
    "        combined_df.at[idx, 'Long'] = country_means.loc[country, 'Long']\n"
   ]
  },
  {
   "cell_type": "code",
   "execution_count": 51,
   "id": "4d090214-fa44-4f61-8874-19fd9ea63422",
   "metadata": {},
   "outputs": [
    {
     "data": {
      "text/plain": [
       "Province/State    0\n",
       "Country/Region    0\n",
       "Lat               0\n",
       "Long              0\n",
       "1/22/20           0\n",
       "                 ..\n",
       "03-06-2023        0\n",
       "03-07-2023        0\n",
       "03-08-2023        0\n",
       "03-09-2023        0\n",
       "Source            0\n",
       "Length: 1148, dtype: int64"
      ]
     },
     "execution_count": 51,
     "metadata": {},
     "output_type": "execute_result"
    }
   ],
   "source": [
    "combined_df.isnull().sum()"
   ]
  },
  {
   "cell_type": "raw",
   "id": "ea12eaa4-74fe-4bae-a282-49e58a0986ad",
   "metadata": {},
   "source": [
    "# removing duplicate"
   ]
  },
  {
   "cell_type": "code",
   "execution_count": 52,
   "id": "3cae3cd7-7058-4000-8e52-d5fbb46550d8",
   "metadata": {},
   "outputs": [
    {
     "data": {
      "text/plain": [
       "0"
      ]
     },
     "execution_count": 52,
     "metadata": {},
     "output_type": "execute_result"
    }
   ],
   "source": [
    "combined_df.duplicated().sum()"
   ]
  },
  {
   "cell_type": "markdown",
   "id": "724040de-c231-47e9-9a75-c80883799898",
   "metadata": {},
   "source": [
    "# Exploratory Data Analysis (EDA)"
   ]
  },
  {
   "cell_type": "code",
   "execution_count": 53,
   "id": "ca3b1a40-eb3d-4da5-a55a-795a69bfe08f",
   "metadata": {},
   "outputs": [],
   "source": [
    "# Melt the DataFrame to long format\n",
    "melted_df  = combined_df.melt(\n",
    "    id_vars=['Province/State', 'Country/Region', 'Lat', 'Long', 'Source'],\n",
    "    var_name='Date',\n",
    "    value_name='Cases'\n",
    ")"
   ]
  },
  {
   "cell_type": "code",
   "execution_count": 54,
   "id": "0576793c-26ac-426f-8ea3-687e5e0630bd",
   "metadata": {},
   "outputs": [
    {
     "name": "stderr",
     "output_type": "stream",
     "text": [
      "C:\\Users\\tejas\\AppData\\Local\\Temp\\ipykernel_11036\\4247038340.py:1: UserWarning: Could not infer format, so each element will be parsed individually, falling back to `dateutil`. To ensure parsing is consistent and as-expected, please specify a format.\n",
      "  melted_df['Date'] = pd.to_datetime(melted_df['Date'])\n"
     ]
    }
   ],
   "source": [
    "melted_df['Date'] = pd.to_datetime(melted_df['Date'])\n"
   ]
  },
  {
   "cell_type": "code",
   "execution_count": 55,
   "id": "0d9d3f61",
   "metadata": {},
   "outputs": [],
   "source": [
    "combined_df.to_csv(\"combined_clean_data.csv\", index=False)"
   ]
  },
  {
   "cell_type": "code",
   "execution_count": 56,
   "id": "ef9660ac-ebc0-4e75-976e-e7212594e6d3",
   "metadata": {},
   "outputs": [],
   "source": [
    "country_data = melted_df[melted_df['Country/Region'] == 'China']\n"
   ]
  },
  {
   "cell_type": "code",
   "execution_count": 57,
   "id": "da7f5a09-ec9c-46a3-bd3b-ac2bfab31ac2",
   "metadata": {},
   "outputs": [
    {
     "data": {
      "image/png": "[encoded data removed]",
      "text/plain": [
       "<Figure size 1200x600 with 1 Axes>"
      ]
     },
     "metadata": {},
     "output_type": "display_data"
    }
   ],
   "source": [
    "plt.figure(figsize=(12, 6))\n",
    "plt.plot(country_data['Date'], country_data['Cases'], marker='o')\n",
    "plt.title('COVID-19 Confirmed Cases Over Time in India')\n",
    "plt.xlabel('Date')\n",
    "plt.ylabel('Confirmed Cases')\n",
    "plt.grid(True)\n",
    "plt.show()"
   ]
  },
  {
   "cell_type": "markdown",
   "id": "8866c3ea-ac13-4f28-aa08-ff87ce13d01c",
   "metadata": {},
   "source": [
    "# Data Visualization Dashboard (Using Streamlit)\n",
    "\n",
    "\n"
   ]
  },
  {
   "cell_type": "code",
   "execution_count": null,
   "id": "d612aec3-36e1-45cb-b0aa-c9682a693db8",
   "metadata": {},
   "outputs": [
    {
     "name": "stderr",
     "output_type": "stream",
     "text": [
      "2025-05-14 16:05:11.218 No runtime found, using MemoryCacheStorageManager\n",
      "C:\\Users\\tejas\\AppData\\Local\\Temp\\ipykernel_11036\\1306117085.py:27: UserWarning: Could not infer format, so each element will be parsed individually, falling back to `dateutil`. To ensure parsing is consistent and as-expected, please specify a format.\n",
      "  melted_df['Date'] = pd.to_datetime(melted_df['Date'])\n"
     ]
    },
    {
     "ename": "TypeError",
     "evalue": "float() argument must be a string or a real number, not 'Figure'",
     "output_type": "error",
     "traceback": [
      "\u001b[1;31m---------------------------------------------------------------------------\u001b[0m",
      "\u001b[1;31mTypeError\u001b[0m                                 Traceback (most recent call last)",
      "Cell \u001b[1;32mIn[65], line 48\u001b[0m\n\u001b[0;32m     46\u001b[0m ax\u001b[38;5;241m.\u001b[39mset_ylabel(\u001b[38;5;124m'\u001b[39m\u001b[38;5;124mConfirmed Cases\u001b[39m\u001b[38;5;124m'\u001b[39m)\n\u001b[0;32m     47\u001b[0m ax\u001b[38;5;241m.\u001b[39mgrid(\u001b[38;5;28;01mTrue\u001b[39;00m)\n\u001b[1;32m---> 48\u001b[0m plt\u001b[38;5;241m.\u001b[39mplot(fig)\n",
      "File \u001b[1;32mc:\\Users\\tejas\\anaconda3\\Lib\\site-packages\\matplotlib\\pyplot.py:3794\u001b[0m, in \u001b[0;36mplot\u001b[1;34m(scalex, scaley, data, *args, **kwargs)\u001b[0m\n\u001b[0;32m   3786\u001b[0m \u001b[38;5;129m@_copy_docstring_and_deprecators\u001b[39m(Axes\u001b[38;5;241m.\u001b[39mplot)\n\u001b[0;32m   3787\u001b[0m \u001b[38;5;28;01mdef\u001b[39;00m \u001b[38;5;21mplot\u001b[39m(\n\u001b[0;32m   3788\u001b[0m     \u001b[38;5;241m*\u001b[39margs: \u001b[38;5;28mfloat\u001b[39m \u001b[38;5;241m|\u001b[39m ArrayLike \u001b[38;5;241m|\u001b[39m \u001b[38;5;28mstr\u001b[39m,\n\u001b[1;32m   (...)\u001b[0m\n\u001b[0;32m   3792\u001b[0m     \u001b[38;5;241m*\u001b[39m\u001b[38;5;241m*\u001b[39mkwargs,\n\u001b[0;32m   3793\u001b[0m ) \u001b[38;5;241m-\u001b[39m\u001b[38;5;241m>\u001b[39m \u001b[38;5;28mlist\u001b[39m[Line2D]:\n\u001b[1;32m-> 3794\u001b[0m     \u001b[38;5;28;01mreturn\u001b[39;00m gca()\u001b[38;5;241m.\u001b[39mplot(\n\u001b[0;32m   3795\u001b[0m         \u001b[38;5;241m*\u001b[39margs,\n\u001b[0;32m   3796\u001b[0m         scalex\u001b[38;5;241m=\u001b[39mscalex,\n\u001b[0;32m   3797\u001b[0m         scaley\u001b[38;5;241m=\u001b[39mscaley,\n\u001b[0;32m   3798\u001b[0m         \u001b[38;5;241m*\u001b[39m\u001b[38;5;241m*\u001b[39m({\u001b[38;5;124m\"\u001b[39m\u001b[38;5;124mdata\u001b[39m\u001b[38;5;124m\"\u001b[39m: data} \u001b[38;5;28;01mif\u001b[39;00m data \u001b[38;5;129;01mis\u001b[39;00m \u001b[38;5;129;01mnot\u001b[39;00m \u001b[38;5;28;01mNone\u001b[39;00m \u001b[38;5;28;01melse\u001b[39;00m {}),\n\u001b[0;32m   3799\u001b[0m         \u001b[38;5;241m*\u001b[39m\u001b[38;5;241m*\u001b[39mkwargs,\n\u001b[0;32m   3800\u001b[0m     )\n",
      "File \u001b[1;32mc:\\Users\\tejas\\anaconda3\\Lib\\site-packages\\matplotlib\\axes\\_axes.py:1781\u001b[0m, in \u001b[0;36mAxes.plot\u001b[1;34m(self, scalex, scaley, data, *args, **kwargs)\u001b[0m\n\u001b[0;32m   1779\u001b[0m lines \u001b[38;5;241m=\u001b[39m [\u001b[38;5;241m*\u001b[39m\u001b[38;5;28mself\u001b[39m\u001b[38;5;241m.\u001b[39m_get_lines(\u001b[38;5;28mself\u001b[39m, \u001b[38;5;241m*\u001b[39margs, data\u001b[38;5;241m=\u001b[39mdata, \u001b[38;5;241m*\u001b[39m\u001b[38;5;241m*\u001b[39mkwargs)]\n\u001b[0;32m   1780\u001b[0m \u001b[38;5;28;01mfor\u001b[39;00m line \u001b[38;5;129;01min\u001b[39;00m lines:\n\u001b[1;32m-> 1781\u001b[0m     \u001b[38;5;28mself\u001b[39m\u001b[38;5;241m.\u001b[39madd_line(line)\n\u001b[0;32m   1782\u001b[0m \u001b[38;5;28;01mif\u001b[39;00m scalex:\n\u001b[0;32m   1783\u001b[0m     \u001b[38;5;28mself\u001b[39m\u001b[38;5;241m.\u001b[39m_request_autoscale_view(\u001b[38;5;124m\"\u001b[39m\u001b[38;5;124mx\u001b[39m\u001b[38;5;124m\"\u001b[39m)\n",
      "File \u001b[1;32mc:\\Users\\tejas\\anaconda3\\Lib\\site-packages\\matplotlib\\axes\\_base.py:2339\u001b[0m, in \u001b[0;36m_AxesBase.add_line\u001b[1;34m(self, line)\u001b[0m\n\u001b[0;32m   2336\u001b[0m \u001b[38;5;28;01mif\u001b[39;00m line\u001b[38;5;241m.\u001b[39mget_clip_path() \u001b[38;5;129;01mis\u001b[39;00m \u001b[38;5;28;01mNone\u001b[39;00m:\n\u001b[0;32m   2337\u001b[0m     line\u001b[38;5;241m.\u001b[39mset_clip_path(\u001b[38;5;28mself\u001b[39m\u001b[38;5;241m.\u001b[39mpatch)\n\u001b[1;32m-> 2339\u001b[0m \u001b[38;5;28mself\u001b[39m\u001b[38;5;241m.\u001b[39m_update_line_limits(line)\n\u001b[0;32m   2340\u001b[0m \u001b[38;5;28;01mif\u001b[39;00m \u001b[38;5;129;01mnot\u001b[39;00m line\u001b[38;5;241m.\u001b[39mget_label():\n\u001b[0;32m   2341\u001b[0m     line\u001b[38;5;241m.\u001b[39mset_label(\u001b[38;5;124mf\u001b[39m\u001b[38;5;124m'\u001b[39m\u001b[38;5;124m_child\u001b[39m\u001b[38;5;132;01m{\u001b[39;00m\u001b[38;5;28mlen\u001b[39m(\u001b[38;5;28mself\u001b[39m\u001b[38;5;241m.\u001b[39m_children)\u001b[38;5;132;01m}\u001b[39;00m\u001b[38;5;124m'\u001b[39m)\n",
      "File \u001b[1;32mc:\\Users\\tejas\\anaconda3\\Lib\\site-packages\\matplotlib\\axes\\_base.py:2362\u001b[0m, in \u001b[0;36m_AxesBase._update_line_limits\u001b[1;34m(self, line)\u001b[0m\n\u001b[0;32m   2358\u001b[0m \u001b[38;5;28;01mdef\u001b[39;00m \u001b[38;5;21m_update_line_limits\u001b[39m(\u001b[38;5;28mself\u001b[39m, line):\n\u001b[0;32m   2359\u001b[0m \u001b[38;5;250m    \u001b[39m\u001b[38;5;124;03m\"\"\"\u001b[39;00m\n\u001b[0;32m   2360\u001b[0m \u001b[38;5;124;03m    Figures out the data limit of the given line, updating self.dataLim.\u001b[39;00m\n\u001b[0;32m   2361\u001b[0m \u001b[38;5;124;03m    \"\"\"\u001b[39;00m\n\u001b[1;32m-> 2362\u001b[0m     path \u001b[38;5;241m=\u001b[39m line\u001b[38;5;241m.\u001b[39mget_path()\n\u001b[0;32m   2363\u001b[0m     \u001b[38;5;28;01mif\u001b[39;00m path\u001b[38;5;241m.\u001b[39mvertices\u001b[38;5;241m.\u001b[39msize \u001b[38;5;241m==\u001b[39m \u001b[38;5;241m0\u001b[39m:\n\u001b[0;32m   2364\u001b[0m         \u001b[38;5;28;01mreturn\u001b[39;00m\n",
      "File \u001b[1;32mc:\\Users\\tejas\\anaconda3\\Lib\\site-packages\\matplotlib\\lines.py:1037\u001b[0m, in \u001b[0;36mLine2D.get_path\u001b[1;34m(self)\u001b[0m\n\u001b[0;32m   1035\u001b[0m \u001b[38;5;250m\u001b[39m\u001b[38;5;124;03m\"\"\"Return the `~matplotlib.path.Path` associated with this line.\"\"\"\u001b[39;00m\n\u001b[0;32m   1036\u001b[0m \u001b[38;5;28;01mif\u001b[39;00m \u001b[38;5;28mself\u001b[39m\u001b[38;5;241m.\u001b[39m_invalidy \u001b[38;5;129;01mor\u001b[39;00m \u001b[38;5;28mself\u001b[39m\u001b[38;5;241m.\u001b[39m_invalidx:\n\u001b[1;32m-> 1037\u001b[0m     \u001b[38;5;28mself\u001b[39m\u001b[38;5;241m.\u001b[39mrecache()\n\u001b[0;32m   1038\u001b[0m \u001b[38;5;28;01mreturn\u001b[39;00m \u001b[38;5;28mself\u001b[39m\u001b[38;5;241m.\u001b[39m_path\n",
      "File \u001b[1;32mc:\\Users\\tejas\\anaconda3\\Lib\\site-packages\\matplotlib\\lines.py:679\u001b[0m, in \u001b[0;36mLine2D.recache\u001b[1;34m(self, always)\u001b[0m\n\u001b[0;32m    677\u001b[0m \u001b[38;5;28;01mif\u001b[39;00m always \u001b[38;5;129;01mor\u001b[39;00m \u001b[38;5;28mself\u001b[39m\u001b[38;5;241m.\u001b[39m_invalidy:\n\u001b[0;32m    678\u001b[0m     yconv \u001b[38;5;241m=\u001b[39m \u001b[38;5;28mself\u001b[39m\u001b[38;5;241m.\u001b[39mconvert_yunits(\u001b[38;5;28mself\u001b[39m\u001b[38;5;241m.\u001b[39m_yorig)\n\u001b[1;32m--> 679\u001b[0m     y \u001b[38;5;241m=\u001b[39m _to_unmasked_float_array(yconv)\u001b[38;5;241m.\u001b[39mravel()\n\u001b[0;32m    680\u001b[0m \u001b[38;5;28;01melse\u001b[39;00m:\n\u001b[0;32m    681\u001b[0m     y \u001b[38;5;241m=\u001b[39m \u001b[38;5;28mself\u001b[39m\u001b[38;5;241m.\u001b[39m_y\n",
      "File \u001b[1;32mc:\\Users\\tejas\\anaconda3\\Lib\\site-packages\\matplotlib\\cbook.py:1398\u001b[0m, in \u001b[0;36m_to_unmasked_float_array\u001b[1;34m(x)\u001b[0m\n\u001b[0;32m   1396\u001b[0m     \u001b[38;5;28;01mreturn\u001b[39;00m np\u001b[38;5;241m.\u001b[39mma\u001b[38;5;241m.\u001b[39masarray(x, \u001b[38;5;28mfloat\u001b[39m)\u001b[38;5;241m.\u001b[39mfilled(np\u001b[38;5;241m.\u001b[39mnan)\n\u001b[0;32m   1397\u001b[0m \u001b[38;5;28;01melse\u001b[39;00m:\n\u001b[1;32m-> 1398\u001b[0m     \u001b[38;5;28;01mreturn\u001b[39;00m np\u001b[38;5;241m.\u001b[39masarray(x, \u001b[38;5;28mfloat\u001b[39m)\n",
      "\u001b[1;31mTypeError\u001b[0m: float() argument must be a string or a real number, not 'Figure'"
     ]
    }
   ],
   "source": [
    "import streamlit as st\n",
    "import pandas as pd\n",
    "import matplotlib.pyplot as plt\n",
    "\n",
    "# Load data with caching for performance\n",
    "@st.cache_data\n",
    "def load_data():\n",
    "    df_confirm = pd.read_csv(\"time_series_covid19_confirmed_global.csv\")\n",
    "    df_death = pd.read_csv(\"time_series_covid19_deaths_global.csv\")\n",
    "    df_recover = pd.read_csv(\"time_series_covid19_recovered_global.csv\")\n",
    "    df_confirm['Source'] = 'Confirmed'\n",
    "    df_death['Source'] = 'Deaths'\n",
    "    df_recover['Source'] = 'Recovered'\n",
    "    combined_df = pd.concat([df_confirm, df_death, df_recover], ignore_index=True)\n",
    "    combined_df['Province/State'] = combined_df['Province/State'].fillna(combined_df['Country/Region'])\n",
    "    country_means = combined_df.groupby('Country/Region')[['Lat', 'Long']].mean()\n",
    "    for idx, row in combined_df[combined_df['Lat'].isnull()].iterrows():\n",
    "        country = row['Country/Region']\n",
    "        if country in country_means.index:\n",
    "            combined_df.at[idx, 'Lat'] = country_means.loc[country, 'Lat']\n",
    "            combined_df.at[idx, 'Long'] = country_means.loc[country, 'Long']\n",
    "    melted_df = combined_df.melt(\n",
    "        id_vars=['Province/State', 'Country/Region', 'Lat', 'Long', 'Source'],\n",
    "        var_name='Date',\n",
    "        value_name='Cases'\n",
    "    )\n",
    "    melted_df['Date'] = pd.to_datetime(melted_df['Date'])\n",
    "    return melted_df\n",
    "\n",
    "st.title('COVID-19 Global Dashboard')\n",
    "\n",
    "# Load and process data\n",
    "melted_df = load_data()\n",
    "\n",
    "# Sidebar for country selection\n",
    "countries = melted_df['Country/Region'].unique()\n",
    "selected_country = st.sidebar.selectbox('Select a country', countries)\n",
    "\n",
    "# Filter and plot data\n",
    "country_data = melted_df[(melted_df['Country/Region'] == selected_country) & (melted_df['Source'] == 'Confirmed')]\n",
    "\n",
    "fig, ax = plt.subplots(figsize=(10, 5))\n",
    "ax.plot(country_data['Date'], country_data['Cases'], marker='o')\n",
    "ax.set_title(f'COVID-19 Confirmed Cases Over Time in {selected_country}')\n",
    "ax.set_xlabel('Date')\n",
    "ax.set_ylabel('Confirmed Cases')\n",
    "ax.grid(True)\n",
    "st.pyplot(fig)\n"
   ]
  }
 ],
 "metadata": {
  "kernelspec": {
   "display_name": "base",
   "language": "python",
   "name": "python3"
  },
  "language_info": {
   "codemirror_mode": {
    "name": "ipython",
    "version": 3
   },
   "file_extension": ".py",
   "mimetype": "text/x-python",
   "name": "python",
   "nbconvert_exporter": "python",
   "pygments_lexer": "ipython3",
   "version": "3.12.7"
  }
 },
 "nbformat": 4,
 "nbformat_minor": 5
}
